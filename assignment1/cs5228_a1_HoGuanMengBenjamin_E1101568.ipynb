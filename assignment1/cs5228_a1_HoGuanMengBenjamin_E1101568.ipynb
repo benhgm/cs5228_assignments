{
 "cells": [
  {
   "attachments": {},
   "cell_type": "markdown",
   "id": "763f0fa0-6584-44d4-b163-a891252769f9",
   "metadata": {},
   "source": [
    "# CS5228 Assignment 1 - EDA, Data Preparation & K-Means\n",
    "\n",
    "Hello everyone, this assignment notebook covers EDA, Data Preparation & K-Means. There are some code-completion tasks and question-answering tasks in this answer sheet. For code completion tasks, please write down your answer (i.e., your lines of code) between sentences that \"Your code starts here\" and \"Your code ends here\". The space between these two lines does not reflect the required or expected lines of code. For answers in plain text, you can refer to [this Markdown guide](https://medium.com/analytics-vidhya/the-ultimate-markdown-guide-for-jupyter-notebook-d5e5abf728fd) to customize the layout (although it shouldn't be needed).\n",
    "\n",
    "When you work on this notebook, you can insert additional code cells (e.g., for testing) or markdown cells (e.g., to keep track of your thoughts). However, before the submission, please remove all those additional cells again. Thanks!\n",
    "\n",
    "**Important:**\n",
    "* Rename and save this Jupyter notebook as **cs5228_a1_YourName_YourNUSNETID.ipynb** (e.g., **cs5228_a1_BobSmith_e12345678.ipynb**) before submission!\n",
    "* Rename and save the script file *cs5228_a1_script.py* as **cs5228_a1_YourName_YourNUSNETID.py** (e.g., **cs5228_a1_BobSmith_e12345678.py**) before submission!\n",
    "* Submission deadline is **Thursday, Sep 14, 11.59 pm**. Late submissions will be penalized by 10% for each additional day. Failure to appropriately rename both files will yield a penalty of 1 Point. There is no need to use your full name if it's rather long; it's just  important to easily identify you in Canvas etc.\n",
    "\n",
    "Please also add your NUSNET and student id in the code cell below. This is just to make any identification of your notebook doubly sure."
   ]
  },
  {
   "cell_type": "code",
   "execution_count": 91,
   "id": "119a3b10-7afe-4814-9a79-32310842f1c3",
   "metadata": {},
   "outputs": [],
   "source": [
    "student_id = 'A0268269L'\n",
    "nusnet_id = 'E1101568'"
   ]
  },
  {
   "attachments": {},
   "cell_type": "markdown",
   "id": "f7455d1c-31ad-4620-8d8a-ad2adc363f56",
   "metadata": {},
   "source": [
    "Here is an overview over the tasks to be solved and the points associated with each task. The notebook can appear very long and verbose, but note that a lot of parts provide additional explanations, documentation, or some discussion. The code and markdown cells you are supposed to complete are well, but you can use the overview below to double-check that you covered everything.\n",
    "\n",
    "* **1 Exploratory Data Analysis (EDA) & Data Preparation (30 Points)**\n",
    "    * 1.1 Removing \"Dirty\" Records (6 Points)\n",
    "    * 1.2 Handling Missing (NaN) Values (6 Points)\n",
    "    * 1.3 Other Appropriate Data Cleaning / Preprocessing Steps (6 Points)\n",
    "        * 1.3 a) Appropriate Steps (4 Points)\n",
    "        * 1.3 b) Additional Considerations (2 Points)\n",
    "    * 1.4 Handling Categorical Attributes (4 Points)\n",
    "    * 1.5 Basic Facts about Dataset (8 Points)\n",
    "* **2 K-Means (20 Points)**\n",
    "    * 2.1 Performing K-Means \"By Hand\" (4 Points)\n",
    "        * 2.1 a) Find Clusters for K=3 (2 Points)\n",
    "        * 2.1 b) Evaluate the Result (2 Points)\n",
    "    * 2.2 Initializing Centroids (10 Points)\n",
    "        * 2.2 a) Implement Initialization of Centroids (6 Points)\n",
    "        * 2.2 b) Interpreting MaxDist Initialization (2 Points)\n",
    "        * 2.2 c) Interpreting KMeans++ Initialization (2 Points)\n",
    "    * 2.3 Questions about K-Means (6 Points)\n",
    "        * 2.3 a) Empty Cluster (3 Points)\n",
    "        * 2.3 b) Outlier Detection (3 Points)"
   ]
  },
  {
   "attachments": {},
   "cell_type": "markdown",
   "id": "60a4e6d6-30f8-4722-9750-4986c33fcccd",
   "metadata": {},
   "source": [
    "## Setting up the Notebook\n",
    "\n",
    "### Enable Auto-Reload\n",
    "\n",
    "This ensures that any saved changes to your `.py` file gets automatically reloaded."
   ]
  },
  {
   "cell_type": "code",
   "execution_count": 92,
   "id": "d3e1e3ad-9fa4-4f0b-9ed1-2bc5f99b7df4",
   "metadata": {},
   "outputs": [
    {
     "name": "stdout",
     "output_type": "stream",
     "text": [
      "The autoreload extension is already loaded. To reload it, use:\n",
      "  %reload_ext autoreload\n"
     ]
    }
   ],
   "source": [
    "%load_ext autoreload\n",
    "%autoreload 2"
   ]
  },
  {
   "attachments": {},
   "cell_type": "markdown",
   "id": "90ab1f20-5a50-4772-86bf-905c8c5c9361",
   "metadata": {},
   "source": [
    "### Enable \"Inline Plotting\""
   ]
  },
  {
   "cell_type": "code",
   "execution_count": 93,
   "id": "f838a8d1-9662-448e-be49-b05333787a43",
   "metadata": {},
   "outputs": [],
   "source": [
    "%matplotlib inline"
   ]
  },
  {
   "attachments": {},
   "cell_type": "markdown",
   "id": "d8529e3a-0baf-40bd-bad0-f0186e30653d",
   "metadata": {},
   "source": [
    "### Importing Required Packages"
   ]
  },
  {
   "cell_type": "code",
   "execution_count": 94,
   "id": "4ca2bb72-8aa3-4d53-9d2a-e4953aa02592",
   "metadata": {},
   "outputs": [],
   "source": [
    "import numpy as np\n",
    "import pandas as pd\n",
    "\n",
    "from src.utils import *"
   ]
  },
  {
   "attachments": {},
   "cell_type": "markdown",
   "id": "befecf0d-9ea3-4355-abb3-6cc7b1daa7ec",
   "metadata": {},
   "source": [
    "**Important:** This notebook also requires you to complete in a separate `.py` script file. This keeps this notebook cleaner and simplifies testing your implementations for us. As you need to rename the file `cs5228_a1.py`, you also need to edit the import statement below accordingly."
   ]
  },
  {
   "cell_type": "code",
   "execution_count": 95,
   "id": "0c0827e5-fcc6-42d4-93df-96258a07cec3",
   "metadata": {},
   "outputs": [],
   "source": [
    "from cs5228_a1_HoGuanMengBenjamin_E1101568 import *"
   ]
  },
  {
   "attachments": {},
   "cell_type": "markdown",
   "id": "872ccaa8-0df8-4b2c-9676-0f872ec645d8",
   "metadata": {},
   "source": [
    "---"
   ]
  },
  {
   "attachments": {},
   "cell_type": "markdown",
   "id": "4e65ca2e-36ac-4d5e-aa5d-b5c5e39ba1a4",
   "metadata": {},
   "source": [
    "## 1. Exploratory Data Analysis (EDA) & Data Preparation\n",
    "\n",
    "### 1.1 Removing \"Dirty\" Records (6 Points)\n",
    "\n",
    "Assume that you have been tasked to build a regression model to predict the **resale prices of used cars** in Singapore. To this end, you get a dataset containing information about 15,000 past resale transactions, including the following information about the attributes:\n",
    "\n",
    "* **listing_id**: Unique ID of the listing; an integer number uniquely assigned to each listing. If this code starts with the letter 'C', it indicates a cancellation of the listing and is this an invalid listing.\n",
    "* **url**: URL of the website where the listing is posted as string value\n",
    "* **make**: The make/brand of the car as a string value of a valid car make (e.g., \"bmw\", \"honda\", \"mazda\", \"toyota\", \"mercedes-benz\").\n",
    "* **model**: The model of the car as a string value of a valid car model (e.g., \"e250\", \"outlander\", \"v60\", \"x1\", \"qashqai\").\n",
    "* **manufactured**: The year the car has been manufactured as an integer value.\n",
    "* **type_of_vehicle**: The type of the car as a string value of a valid vehicle type (e.g., \"luxury sedan\", \"mid-sized sedan\", \"suv\", \"hatchback\").\n",
    "* **power**: The power of the engine as an integer value in kW (kilowatt)\n",
    "* **engine_cap**: Size/capacity of the engine as integer value in cc (cubic centimeter)\n",
    "* **curb_weight**: the weight of the vehicle including a full tank of fuel and all standard equipment in kg (kilogram)\n",
    "* **no_of_owners**: Number of previous owners as integer value >= 1 (used cars only).\n",
    "* **mileage**: Mileage of car as integer value in km (kilometer)\n",
    "* **price**: Resale price of the car in Singapore dollars.\n",
    "\n",
    "Let's have a first look at the data:"
   ]
  },
  {
   "cell_type": "code",
   "execution_count": null,
   "id": "41de30c2-45a5-4b51-9f56-659dc2119986",
   "metadata": {},
   "outputs": [],
   "source": [
    "df_cars_dirty = pd.read_csv('data/a1-used-cars-resale-dirty.csv')\n",
    "\n",
    "df_cars_dirty.head()"
   ]
  },
  {
   "cell_type": "code",
   "execution_count": null,
   "id": "7f147316",
   "metadata": {},
   "outputs": [],
   "source": [
    "### check unique column values\n",
    "for col in df_cars_dirty.columns:\n",
    "    unique_data = df_cars_dirty[col].unique()\n",
    "    print(col, len(df_cars_dirty[col]), len(unique_data))"
   ]
  },
  {
   "cell_type": "code",
   "execution_count": null,
   "id": "d9733eeb",
   "metadata": {},
   "outputs": [],
   "source": [
    "### check datatypes\n",
    "df_cars_dirty.dtypes"
   ]
  },
  {
   "cell_type": "code",
   "execution_count": 103,
   "id": "2d866dcb",
   "metadata": {},
   "outputs": [
    {
     "name": "stdout",
     "output_type": "stream",
     "text": [
      "listing_id ['983884' '1026259' '1002033' ... '1019391' '1023024' '996280']\n",
      "url ['https://www.sgcarmart.com/listing/983884'\n",
      " 'https://www.sgcarmart.com/listing/1026259'\n",
      " 'https://www.sgcarmart.com/listing/1002033' ...\n",
      " 'https://www.sgcarmart.com/listing/1019391'\n",
      " 'https://www.sgcarmart.com/listing/1023024'\n",
      " 'https://www.sgcarmart.com/listing/996280']\n",
      "make ['nissan' 'volkswagen' 'suzuki' 'kia' 'porsche' 'toyota' 'bmw'\n",
      " 'mercedes-benz' 'mitsubishi' 'skoda' 'volvo' 'honda' 'mclaren' 'ferrari'\n",
      " 'lexus' 'austin' 'hyundai' 'mazda' 'audi' 'mini' 'infiniti' 'lamborghini'\n",
      " 'daihatsu' 'jaguar' 'subaru' 'chevrolet' 'maserati' 'ford' 'alfa romeo'\n",
      " 'peugeot' 'bentley' 'opel' 'land rover' 'seat' 'rolls-royce' 'ssangyong'\n",
      " 'renault' 'fiat' 'citroen' 'aston martin' 'hummer' 'jeep' 'mercedes'\n",
      " 'proton' 'mg' 'cupra' 'lotus' 'dodge' 'daimler' 'mitsuoka' 'perodua'\n",
      " 'cadillac' 'ruf' 'rolls' 'maybach' 'morgan' 'chrysler' 'alpine' 'smart'\n",
      " 'saab' 'dongfeng' 'maxus' 'international']\n",
      "model ['qashqai' 'golf' 'vitara' 'picanto' 'cayenne' 'c-hr' 'x4' 'corolla' 'amg'\n",
      " 'c180' 'attrage' 'octavia' 'harrier' '318i' '630ci' 'wish' 's60' 'cla180'\n",
      " 'cerato' 'e' '720s' 'outlander' '488' 'ls500' '523i' 't-cross' 'healey'\n",
      " 'scirocco' 'elantra' 'camry' 'b160' 'e250' 'lancer' 'gs' 'x3' '520i'\n",
      " 'freed' '316i' 'civic' '3' 'note' '216i' 'a4' 'cooper' 'sylphy' '730li'\n",
      " 'q50' 'urus' 'jetta' 'b200' 'terios' 'm4' 'crossroad' 'polo' 'vios' 'rx'\n",
      " 'shuttle' 'voxy' '530i' 'sharan' 'e200' '520d' 'xe' 'vezel' 'boxster'\n",
      " 'prius' 'avante' 'sf90' 'alphard' '2' 'x1' 'rx-8' 'forester' 'vellfire'\n",
      " 'jazz' 'gla180' 'carens' 'a180' 'a3' 'cruze' 'aventador' 'es' 'glc250'\n",
      " 'qx30' '320i' '220i' 'odyssey' 'noah' 'grace' 'passat' 'nx' 'city' 'c200'\n",
      " 'a250' 'estima' 'x5' 'evolution' 'macan' 'outback' 'activehybrid' '640i'\n",
      " 'airwave' 'sl350' 'latio' 'previa' 'allion' '528i' 'm5' 'accent' 'coupe'\n",
      " 'tucson' 'accord' 'q3' 'kodiaq' 'veloster' 'jimny' 'c160' 'quattroporte'\n",
      " 'stream' 'impreza' 'ist' 'q5' 'mustang' 'rio' 'giulietta' 'q2' 'is' '86'\n",
      " '3008' 'm3' 'm2' 'hr-v' 'beetle' '535i' 'fit' 'a6' 'sienta' '5008'\n",
      " 's400l' 'continental' 'astra' 's320l' 'range' 's350' '135i' 'cls350'\n",
      " '420i' 'picnic' 'v40' 'm6' 'x-trail' 'rcz' 'granturismo' 'ghibli' 'leon'\n",
      " '911' 'land' 'q60' '630i' 's90' 'a7' 'aqua' 'swift' 'z4' '116i' 'mobilio'\n",
      " 'one' 'ghost' 'v60' '330e' 'teana' 'touran' 'alpina' '118i' 'sonic'\n",
      " 'sportsvan' '430i' '530e' 's5' 'stavic' 'discovery' 'grand' 'a200'\n",
      " 'focus' 'xc60' 'e230' 'cla200' 'slk200' 'xv' 'panamera' 'scenic' 'a5'\n",
      " 'i30' 'tivoli' '650i' 'yaris' 'stonic' 'sportage' '218i' 'sorento'\n",
      " 'e-pace' '458' '428i' 'colt' '216d' 'megane' 'cayman' 'f-type' 'gran'\n",
      " 'cls400' 'glc200' '12c' 'xf' 'b180' 'stinger' 'axela' 'crown' 'huracan'\n",
      " 'a35' '740li' 'fluence' 'r8' 'esquire' '308' 'cr-v' 'e220' 'levante'\n",
      " '335i' '116d' 'sx4' 's300l' 'apv' 'x2' 'eclipse' 'clio' 'premio' '500'\n",
      " 'a8' 'soul' '330i' 'a1' 'rs' 'tiguan' 'elgrand' 'flying' 'materia' 'tt'\n",
      " 's3' 'ct' 'a45' 'integra' 'dawn' '599' 'asx' 'serena' 'gallardo' 'c4'\n",
      " 'ml350' 'superb' 'almera' 'dbs' 'stepwagon' '730i' 'rapid' 'q7' 'f430'\n",
      " 'c5' 'skyline' 'gransport' 'fortuner' 'seltos' 'ds5' 'juke' 'california'\n",
      " '540i' 'santa' 'venue' 'rav4' 'h3' '718' 'xj' 'kadjar' 'mulsanne' 's450'\n",
      " 'niro' 'grancabrio' 'xc90' 'space' 's80' 'compass' 's500l' 'pulsar'\n",
      " 'qx80' 'db9' 'ux' 'giulia' 'ml250' 'e180' 'insight' 'm135i' 'xc40'\n",
      " 'karoq' 'x6' 'benz' 'f12berlinetta' 'gla200' 'a170' '225xe' 'mokka' 'q30'\n",
      " 'v8' 'i8' 'exora' '218d' '325i' 's2000' 'gtc4lusso' 'raize' '508'\n",
      " 'fairlady' 'x7' 'sq5' 'c250' 'phantom' '2008' '740i' 's40' 'hs' 'qx50'\n",
      " 'defender' 'toledo' 'ateca' 'clc180k' 'maybach' 'gle400' '650s' '570s'\n",
      " '328i' 'rush' 'crossland' 'mark' 'sonata' 'verna' 'elise' 'stelvio'\n",
      " '125i' 'ls460' 'wrangler' 'insignia' 'portofino' 'malibu' 's500' 'm140i'\n",
      " 'journey' 'cascada' '107' 'levorg' '525i' 'gtr' '120i' 'gla250' 'q8'\n",
      " 'orlando' 'prado' 'cc' 'v250d' 'cls250' 'glb200' '323i' 'avanza'\n",
      " 'grandland' 'f8' 'sovereign' 'corsa' 'himiko' 'i45' 'f-pace' 'glc300'\n",
      " 'viva' 'isis' 's4' 'jade' '208' '600lt' 'ls350' 'optima' 'ml400'\n",
      " 'touareg' 'legacy' 'v250' 'arona' 'cts' 'cx-3' 'bentayga' '1m' 's560'\n",
      " 'kamiq' 'ds4' 'ml300' 'c3' 'presage' '3800s' 'cla250' 'e300' 'cherokee'\n",
      " 'copen' 's280' 'saga' 'gr' 'meriva' 'brz' 'lx570' 'myvi' '840i' 'eos'\n",
      " 'getz' 'royce' 's600l' 'ioniq' 'mondeo' 'grandis' 'xk' 'ibiza' '435i'\n",
      " 'i3' 'zafira' 'tarraco' '575m' '340i' '450slc' 'rc' 'vanquish' 'march'\n",
      " 'e350' 'ff' 'gt' 'vantage' '228i' 'hiace' 'vitz' 'ractis' 'lc500' 'tudor'\n",
      " '62' 'aero' 'optra' 'g350' '300c' 'r350l' '750li' 'capri' 'r300l'\n",
      " 'tuscani' 'fj' 'kelisa' '320d' 'gl400' 'clk280' 'a110' 'm8' 'kenari'\n",
      " 'mrs' 'n-box' 'wraith' 'airtrek' 'alhambra' 'freelander' 'sl500' 'wrx'\n",
      " '220' 'fortwo' 'celica' 'genesis' 'c300' 'v260l' 'cl550' 'ciaz' 'slk350'\n",
      " 'v50' 'cls500' 'v90' 'aveo' 'kona' '440i' 'fiesta' '612' 'p1800' 'adam'\n",
      " 'kombi' '9-5' 'renegade' 'rt35s' 'caddy' 'slk250' 'star' '9-3' '230i'\n",
      " 'kuga' 'g10' 'viano' 'gle450' 'f612s' 'b170' 'db11' 'solio' 'vanguard'\n",
      " 'exiga' 'europa' 'sunny' '750i' 'yeti' 'ds3' 'galaxy' 'doblo' 'c350'\n",
      " '207' '159' 's-max' 'arteon' 'scout' 'slk280']\n",
      "manufactured [2015 2010 2016 2007 2014 2018 2012 2009 2019 2005 2017 2020 1964 2008\n",
      " 2011 2013 2116 2021 2118 2004 2115 2120 2006 2121 2106 2107 2119 2112\n",
      " 2111 2109 2117 2110 2108 2113 1975 2114 2003 1978 1933 1976 1969 1982\n",
      " 1972 1962]\n",
      "type_of_vehicle ['suv' 'sports car' 'hatchback' 'mid-sized sedan' 'luxury sedan' 'mpv'\n",
      " 'unknown' 'stationwagon' 'bus/mini bus' 'van']\n",
      "power [ 85 188  88  47 193  90 225 200 115 135  59 180 170 100 190 106  93 129\n",
      " 530 111 110 493 310  95  80 150  99 155 154  70  79 147 220 118 183 101\n",
      " 185  92  58  75  91 140 133 286 478  77 250 103  66 175  97 187 162 132\n",
      "  96 735 134 141 158 105 228  73 104  86 515 206 160 125 235  81 152 184\n",
      " 280 430 336 114 202 120 169  64 145 331  69 121 153 317 240  84 386 108\n",
      " 245 460 375  89 412 257 261 234 233 127 298 192 112  74  72 420 218 123\n",
      "  57 447 215 177 199 373  94 330  51 368 148 441 113 323 217 195 272 300\n",
      " 449 353 316 142 143  82 130  68  87 243  60 165 309  76 213 265 456 138\n",
      " 294 137  65 533 254  63 470 287 283 404 357 295 338 136 340 467 174 109\n",
      " 395 305 128 221 122 270 179 405 335 350 176 416 450 210 408 541 260 151\n",
      " 313 275 285 182  54 173 423 119 324 390 419 269 178 146 230  50 358 360\n",
      " 397 139 247 266 164  45 411 232 545  67 381 306 258 229 388 107 117 209\n",
      " 345 302 166 301 277 552 242 205 507 380 400 320 224 486 425 241 463 223\n",
      " 131 382 203 351  55 410 308  48 384  40 156 126 453 171 197 377 464 216\n",
      " 489 427 465 297 149]\n",
      "engine_cap [1197 1984 1586 1086 2967 1797 2979 1598 3498 1796 1991 1193 1998 1499\n",
      " 2996 1969 1595 1591 2356 3994 1986 3902 3445 2497  999 2912 2487 1498\n",
      " 1584 3598 1390 2995 1997 1496 1597 1198 1798 2494 2999 3996 2143 1495\n",
      " 2998 1799 1497 1395 1995 1999 2893 3990 2493 1794 1308 1996 1318 1685\n",
      " 1332 6498 3456 2362 2498 3724 3189 2993 1368 3982 1975 1462 2987 2457\n",
      " 1298 1987 5038 1399 2500 1199 1339 1560 5461 5998 4999 6208 1596 4395\n",
      " 4691 3824 4608 2997 1317 2773 6592 2360  988 1398 1461 4244 3197 1600\n",
      " 3605 3993 1353 2488  996 2981  998 2261 2687 4806 2151 4497 1468 3798\n",
      " 3342 5204 3600 3387 4163 1950 2157 2199 1590 1994 2179 1242 1196 2480\n",
      " 3999 2894 3745 5999 2359 3614 4134 4308 2495 3800 2694 4297 2672 5950\n",
      " 3855 3653 1988 1362 6752 1580 2354 2521 4663 5552 5935 1372 2891 6262\n",
      " 1699 4735 3436 3696 6749 2435 1490 1371 5000 5980 3799 2499 2156 3778\n",
      " 2384 3444 2925 3956 1993 2693 1968 4235  989 2035 3604 1328 4951 3179\n",
      " 2994 3564 2706 3596 3311 1668  659 2799 1364 5662 1618 1460 3597 5514\n",
      " 2378 4196  647 5748 4520 2953 1386 4961 1373 1296 4969 3622 4799 3518\n",
      " 1397 3797 3955 3471 1341  658 3995 3192 2197 1335 4499 2496 1970 1310\n",
      " 2656 1333 2198]\n",
      "curb_weight ['1285' '1466' '1160' '852' '2185' '1440' '1815' '1195' '1765' '1495'\n",
      " '1465' '940' '1470' '1695' '1655' '1425' '1580' '1340' '1557' '1430'\n",
      " '1287' '1855' '1419' '1610' '1480' '1565' '2220' '1295' '1650' '1369'\n",
      " '1158' '1393' '1267' '1545' '1350' '1725' '1162' '1360' '2105' '1503'\n",
      " '1660' '1685' '1615' '1680' 'XXXXX' '1405' '1237' '1310' '1048' '1261'\n",
      " '1230' '1249' '1225' '1205' '1475' '1720' '1644' '2320' '1345' '1845'\n",
      " '1417' '1190' '1769' '1535' '1410' '1139' '1095' '2070' '1130' '1525'\n",
      " '1620' '1625' '1790' '1605' '1700' '1574' '1321' '1375' '1775' '2030'\n",
      " '1450' '1485' '1407' '1355' '1461' '1566' '1045' '1079' '1052' '1385'\n",
      " '1435' '1365' '1413' '1690' '1313' '1735' '1540' '1390' '1500' '1810'\n",
      " '1036' '1170' '1755' '1096' '1380' '1067' '1490' '1105' '1455' '1331'\n",
      " '1520' '1795' '1290' '1684' '1088' '1850' '1750' '1100' '1215' '1200'\n",
      " '1617' '1115' '1575' '1468' '1038' '1665' '1945' '1370' '1770' '1572'\n",
      " '1219' '1339' '1210' '1110' '1505' '1000' '1840' '1515' '1640' '1893'\n",
      " '1176' '1240' '1324' '1315' '1472' '1239' '1300' '1270' '1560' '1185'\n",
      " '2000' '1570' '1255' '1530' '1010' '1549' '1140' '1858' '1132' '1760'\n",
      " '1870' '1935' '1188' '1940' '2329' '1925' '1046' '1730' '1085' '1460'\n",
      " '1675' '1264' '1438' '1626' '1336' '2525' '1241' '1590' '2530' '1322'\n",
      " '1748' '1289' '1785' '1030' '1280' '2075' '1120' '1080' '1715' '1155'\n",
      " '1090' '1081' '1630' '2435' '1606' '1613' '1740' '1568' '1060' '2010'\n",
      " '1232' '1970' '1220' '1383' '1510' '1835' '1880' '1320' '2080' '1191'\n",
      " '1357' '1395' '1327' '1420' '1550' '1555' '1227' '1501' '1373' '1600'\n",
      " '2295' '1457' '1292' '1980' '1898' '1865' '2245' '1532' '1251' '1577'\n",
      " '1692' '1400' '1408' '1954' '1757' '1335' '1329' '1454' '1044' '1955'\n",
      " '1070' '1379' '1682' '1647' '1875' '1245' '1705' '1325' '2360' '1867'\n",
      " '1257' '1780' '1920' '1441' '1585' '1175' '1382' '2109' '1050' '1591'\n",
      " '1138' '2020' '2039' '1330' '1275' '2560' '980' '1645' '1207' '1165'\n",
      " '1900' '1040' '1536' '1453' '1595' '1391' '1862' '1975' '2475' '1397'\n",
      " '1930' '2065' '2495' '970' '1758' '1359' '1102' '2060' '2140' '1983'\n",
      " '1915' '1841' '1075' '1445' '1558' '1830' '1825' '2350' '1708' '2045'\n",
      " '1892' '1415' '1129' '1492' '1489' '1427' '2290' '2430' '1514' '1314'\n",
      " '1150' '1203' '1812' '1522' '1323' '1509' '1218' '1125' '2150' '1800'\n",
      " '1594' '2183' '1890' '2417' '2244' '1527' '2231' '1343' '1804' '1265'\n",
      " '1421' '1608' '2685' '1667' '1589' '1478' '1498' '1569' '2099' '915'\n",
      " '1997' '1672' '1286' '1269' '1683' '2214' '2015' '2815' '1670' '1449'\n",
      " '1710' '1318' '2187' '2455' '1860' '1528' '1635' '1531' '1551' '1065'\n",
      " '1950' '1041' '2305' '1404' '1433' '1805' '1716' '1204' '1463' '2115'\n",
      " '1513' '1664' '1895' '2470' '1776' '1422' '1916' '1819' '1990' '1679'\n",
      " '1126' '1642' '2094' '1260' '2670' '1312' '2190' '1601' '2205' '1388'\n",
      " '1563' '1284' '1995' '2261' '2485' '2315' '1364' '1288' '1576' '1648'\n",
      " '1222' '2037' '1537' '1969' '2335' '2180' '1439' '1486' '2510' '2050'\n",
      " '2175' '2250' '1777' '2120' '1597' '1229' '1448' '2170' '1263' '860'\n",
      " '1517' '1068' '910' '1818' '2165' '1250' '1447' '2410' '1020' '1539'\n",
      " '2090' '1873' '1658' '805' '1476' '1891' '2451' '1604' '2420' '2110'\n",
      " '1596' '1747' '1180' '2540' '2345' '2130' '1055' '2240' '1960' '2055'\n",
      " '945' '2095' '1965' '1259' '2223' '1676' '1328' '2625' '1831' '1729'\n",
      " '1838' '1387' '1424' '1919' '800' '1542' '1722' '1235' '1414' '1358'\n",
      " '1334' '1356' '1856' '2125' '1636' '1526' '1612' '1745' '1279' '2215'\n",
      " '2555' '2600' '1798' '2433' '1899' '1820' '2249' '2040' '2106' '2064'\n",
      " '1338' '2395' '2505' '1308' '930' '2155' '2160' '2135' '1353' '1058'\n",
      " '1882' '2550' '2440' '2127' '1846' '2266' '830' '1437' '1317' '1035'\n",
      " '1396' '1253' '1429' '2512' '2730' '955' '2490' '2361' '1689' '1135'\n",
      " '840' '1151' '1933' '1164' '1538' '1582' '2025' '2284' '2375' '1652'\n",
      " '1078' '872' '2511' '1659' '1739' '1894' '2206' '1752' '1824' '1772'\n",
      " '995' '1381' '1346' '1603' '950' '1732' '1583' '2085' '2760' '1721'\n",
      " '2093' '1377' '1474' '1781' '1985' '2905' '1534' '2590' '2513' '1122'\n",
      " '1910' '1834' '1316' '1306' '890' '2123' '806' '2184' '2425' '1378'\n",
      " '1994' '1086' '1456' '1832' '870' '1533' '1554' '1709' '1571' '2570'\n",
      " '780' '1703' '1347' '786' '2153' '1411' '2450' '891' '2370' '1768' '1025'\n",
      " '2583' '1905' '1119' '1979' '1403' '1853' '1656' '1989' '1233' '795'\n",
      " '1674' '2100' '1484' '2068' '1178' '1299' '2365' '1953' '2227' '2585'\n",
      " '1663' '1567' '1646' '2745' '1939' '1611' '2492' '1921' '1399' '1221'\n",
      " '1552' '2' '1402' '2635' '2079' '2027' '1706' '2217' '1936' '2509' '1145'\n",
      " '1661' '1268' '1797' '2145' '1193' '1392' '1529' '1366' '1657' '1903'\n",
      " '2448' '2275' '1431' '1293']\n",
      "no_of_owners [ 2  6  1  3 -1  5  4]\n",
      "mileage [ 80000 149000  84000 ... 150256  28414 158400]\n",
      "price [  52800  105800   55800 ...   66600  118900 1068800]\n"
     ]
    }
   ],
   "source": [
    "### check unique column values\n",
    "for col in df_cars_dirty.columns:\n",
    "    unique_data = df_cars_dirty[col].unique()\n",
    "    print(col, unique_data)"
   ]
  },
  {
   "cell_type": "code",
   "execution_count": null,
   "id": "2368b2bd",
   "metadata": {},
   "outputs": [],
   "source": [
    "### check for duplicated rows\n",
    "duplicated_df = df_cars_dirty[df_cars_dirty.duplicated(keep=False)]\n",
    "unique_ids = duplicated_df[\"listing_id\"].unique()\n",
    "len(unique_ids)\n",
    "total_duplicates = 0\n",
    "for id in unique_ids:\n",
    "    datapoints = duplicated_df.loc[duplicated_df[\"listing_id\"] == id]\n",
    "    num_duplicates = len(datapoints)\n",
    "    \n",
    "    for col in datapoints.columns:\n",
    "        x = set([datapoints[col].values[i] for i in range(num_duplicates)])\n",
    "        assert len(x) == 1\n",
    "\n",
    "    total_duplicates += num_duplicates\n",
    "\n",
    "duplicated_df_dropped = df_cars_dirty.drop_duplicates()\n",
    "duplicated_df_dropped\n",
    "\n",
    "num_new_duplicates = 0\n",
    "for id in duplicated_df_dropped[\"listing_id\"].unique():\n",
    "    id_points = duplicated_df_dropped.loc[duplicated_df_dropped[\"listing_id\"] == id]\n",
    "    if len(id_points) > 1:\n",
    "        num_new_duplicates += 1\n",
    "        print(id_points)\n",
    "print(num_new_duplicates)"
   ]
  },
  {
   "cell_type": "code",
   "execution_count": null,
   "id": "14153448",
   "metadata": {},
   "outputs": [],
   "source": [
    "### inspect the values for the number of owners\n",
    "invalid_listings = df_cars_dirty[df_cars_dirty[\"listing_id\"].str.contains(\"C\")]\n",
    "invalid_listings[\"listing_id\"] = df_cars_dirty[\"listing_id\"].apply(lambda x: x[1:])\n",
    "invalid_listings"
   ]
  },
  {
   "cell_type": "code",
   "execution_count": null,
   "id": "0800ebeb",
   "metadata": {},
   "outputs": [],
   "source": [
    "### make a copy of original dataset\n",
    "df_cars_dirty_copy = df_cars_dirty.copy()\n",
    "df_cars_dirty_copy[\"listing_id\"] = df_cars_dirty_copy[\"listing_id\"].apply(lambda x: x[1:])\n",
    "print(len(df_cars_dirty_copy[\"listing_id\"].unique()))\n",
    "print(len(df_cars_dirty[\"listing_id\"].unique()))"
   ]
  },
  {
   "cell_type": "code",
   "execution_count": null,
   "id": "d849aab2",
   "metadata": {},
   "outputs": [],
   "source": [
    "### inspect the data where number of owners == -1\n",
    "df_cars_dirty.loc[df_cars_dirty[\"no_of_owners\"] == -1]"
   ]
  },
  {
   "cell_type": "code",
   "execution_count": null,
   "id": "3c9ab3d5",
   "metadata": {},
   "outputs": [],
   "source": [
    "### inspect the mercedes and mercedes-benz makes\n",
    "df_cars_dirty.loc[(df_cars_dirty[\"make\"] == \"mercedes\")]"
   ]
  },
  {
   "cell_type": "code",
   "execution_count": null,
   "id": "1fc58d3f",
   "metadata": {},
   "outputs": [],
   "source": [
    "### inspect the mercedes and mercedes-benz makes to find the missing model\n",
    "df_cars_dirty.loc[(df_cars_dirty[\"manufactured\"] == 2020) & (df_cars_dirty[\"type_of_vehicle\"] == \"hatchback\") & (df_cars_dirty[\"make\"] == \"mercedes-benz\") & (df_cars_dirty[\"power\"] == 96) & (df_cars_dirty[\"engine_cap\"] == 1332)]"
   ]
  },
  {
   "cell_type": "code",
   "execution_count": null,
   "id": "73782838-04d0-4ddb-95b8-5bcb8a639083",
   "metadata": {},
   "outputs": [],
   "source": [
    "print('Number of records: {}'.format(len(df_cars_dirty)))"
   ]
  },
  {
   "attachments": {},
   "cell_type": "markdown",
   "id": "92a48de5-4d9a-4663-a70d-05cfe65050f2",
   "metadata": {},
   "source": [
    "If you check the dataset against its description as given above -- with the help of `pandas` or by simply inspecting the raw data file -- you will notice that many records are \"dirty\", meaning they are not in the expected format. Dirty records can negatively affect any subsequent analysis it needs.\n",
    "\n",
    "**Perform EDA on the Used Cars Resale Price dataset and perform appropriate preprocessing steps to clean the data!**\n",
    "The preprocessing step for cleaning the data step may include\n",
    "* the *removal* of \"dirty records\" or\n",
    "* the *modification* of \"dirty records\" records\n",
    "\n",
    "**Task 1: Identify at least 3 issues** with the dataset that would negatively affect any subsequent analysis, and clean the data accordingly.\n",
    "\n",
    "**Important:**\n",
    "\n",
    "* Recall from the lecture that data cleaning often involves making certain decisions. As such, you might come up with different steps than other students. This is OK as long as you can reasonably justify your steps.\n",
    "* The goal is to preserve as much of the records as possible! So only remove records as part of your data cleaning if it's really necessary (this includes that you should not remove any attributes!). There might be different valid cases, so don't forget to briefly justify your decision.\n",
    "* For this task, we are **not** trying to identify \"noise\" (e.g., outliers in the form of suspicious values) or `NaN` values; this will be covered later. Here, we look for records with values not eligible to be used for an analysis because they do not adhere to the data description.\n",
    "\n",
    "Please provide your answer below. It should list the different issues you have identified and briefly discuss which data cleaning steps you can and/or need to perform to address those issues.\n",
    "\n",
    "**Your answer:**"
   ]
  },
  {
   "attachments": {},
   "cell_type": "markdown",
   "id": "c5e30847-8014-4893-b4f4-21316d68ce42",
   "metadata": {},
   "source": [
    "### Issues with dataset\n",
    "#### 1. Duplicated Data Points (Done)\n",
    "By using `df_cars_dirty[\"listing_id\"].unique()`, we can see that there are only **14,321 unique listing ids**, which means that **there are duplicated listings in the dataset**.\n",
    "\n",
    "### 2. Duplicated Listing IDs with Inconsistent Data\n",
    "When `df_cars_dirty.drop_duplicates()` is used to drop the duplicated data points and `df_cars_dirty[\"listing_id\"].unique()` is run again, we should expect that the number of unique listing ids remain at 14,321 and the length of the dataset should be 14,321 also. Since theoretically, all duplicated listings should have been removed. This is however not the case.\n",
    "\n",
    "Upon inspection of the remaining dataset, we will find that there are now **14,344** data points. This implies that there are still some duplicated listing IDs in the dataset. By checking the number of times each of the listing ids in the remaining dataset appears and counting only those that appear more than once, we get a count of **23** which is exactly the discrepancy we expect.\n",
    "\n",
    "Upon inspection of these data points more closely, we can realise that these are data points where there are some **erroneous and inconsistent values**. For example, the listing id \"1001655\" appears twice in in line 3393 and line 9459. There is an error in the manufacture date in line 3393 which states \"2119\", which is not a valid date at present. The correct data, on line 9459 is \"2019\".\n",
    "\n",
    "### 3. Same Vehicle Make Appears In Two Different Forms (Done)\n",
    "There are 3 entries in the dataset where the **_vehicle make is specified as \"mercedes\"_**, while the **_model is specified as \"benz\"_**. We shall not remove these data points because of this discrepancy. Instead, we can **_correct the mistakes in the column values_**. First, the **_\"make\" will be corrected to \"mercedes-benz\"_**. Next, to find out the \"model\" of these 3 cars, we **_compare the other specs, such as manufactured date, type of vehicle, power, engine capacity and curb weight with data from the other \"mercedes-benz\" data points._** Together with a **_simple google search_** on the specs of these 3 unknown vehicles, we can identify the **_missing \"model\" labels to be \"a200\" and \"a180\"._**\n",
    "\n",
    "### 4. Dirty \"curb_weight\" Data (Done)\n",
    "There are two issues with \"curb_weight\" data.\n",
    "a) The \"curb_weight\" column contains 280 \"XXXXX\" values. We can find the correct curb weight value for the particular model by matching the other vehicle specifications with other listings. However, even after matching, there exists some vehicle models that have multiple valid curb weights. For example, toyota qashqai has curb weight variants of 1285 and 1325. For these cases, we will ignore the \"XXXXX\" values and remove them after. This amounts to 106 entries. We have managed to retain more than half the dirty data.\n",
    "\n",
    "b) The \"curb_weight\" column is in string format. As this data can be considered ratio data, we will convert all the \"curb_weight\" values into integer form.\n",
    "\n",
    "### 5. Incorrect Data\n",
    "There are several instances of data that are factually incorrect. For example, checking the unique values of the manufacture date, we can identify several invalid entries, such as \"2111\", \"2115\", etc. We can give benefit of doubt and assume these are spelling errors. Eg. Writing 2111 instead of 2011. We can try to use the information from the other columns for these invalid manufacturing years to try and deduce the correct manufacturing year. For those where it is too difficult, we will omit the data."
   ]
  },
  {
   "attachments": {},
   "cell_type": "markdown",
   "id": "661489b1-22b4-44b2-9047-43b5e5faa09e",
   "metadata": {},
   "source": [
    "**Task 2: Complete the method `clean` in the `.py` file to actually implement your steps for handling \"dirty\" records!** The results should back up your answer above. Hint: Try to use methods/functionalities provided by `pandas` as much as possible; it will make your code much shorter, faster and your life easier. We will run performance checks for this method to evaluate the runtime, but the performance is not considered for the grading!"
   ]
  },
  {
   "cell_type": "code",
   "execution_count": 144,
   "id": "b01ca23b-812c-4c31-a0ad-ca5db585b4d2",
   "metadata": {},
   "outputs": [
    {
     "name": "stderr",
     "output_type": "stream",
     "text": [
      "/Users/benho/Documents/mcomp/cs5228/cs5228_assignments/assignment1/cs5228_a1_HoGuanMengBenjamin_E1101568.py:40: SettingWithCopyWarning: \n",
      "A value is trying to be set on a copy of a slice from a DataFrame.\n",
      "Try using .loc[row_indexer,col_indexer] = value instead\n",
      "\n",
      "See the caveats in the documentation: https://pandas.pydata.org/pandas-docs/stable/user_guide/indexing.html#returning-a-view-versus-a-copy\n",
      "  df_cars_a200[\"model\"] = df_cars_a200[\"model\"].apply(lambda x: \"a200\")\n",
      "/Users/benho/Documents/mcomp/cs5228/cs5228_assignments/assignment1/cs5228_a1_HoGuanMengBenjamin_E1101568.py:41: SettingWithCopyWarning: \n",
      "A value is trying to be set on a copy of a slice from a DataFrame.\n",
      "Try using .loc[row_indexer,col_indexer] = value instead\n",
      "\n",
      "See the caveats in the documentation: https://pandas.pydata.org/pandas-docs/stable/user_guide/indexing.html#returning-a-view-versus-a-copy\n",
      "  df_cars_a180[\"model\"] = df_cars_a180[\"model\"].apply(lambda x: \"a180\")\n"
     ]
    },
    {
     "data": {
      "text/html": [
       "<div>\n",
       "<style scoped>\n",
       "    .dataframe tbody tr th:only-of-type {\n",
       "        vertical-align: middle;\n",
       "    }\n",
       "\n",
       "    .dataframe tbody tr th {\n",
       "        vertical-align: top;\n",
       "    }\n",
       "\n",
       "    .dataframe thead th {\n",
       "        text-align: right;\n",
       "    }\n",
       "</style>\n",
       "<table border=\"1\" class=\"dataframe\">\n",
       "  <thead>\n",
       "    <tr style=\"text-align: right;\">\n",
       "      <th></th>\n",
       "      <th>listing_id</th>\n",
       "      <th>url</th>\n",
       "      <th>make</th>\n",
       "      <th>model</th>\n",
       "      <th>manufactured</th>\n",
       "      <th>type_of_vehicle</th>\n",
       "      <th>power</th>\n",
       "      <th>engine_cap</th>\n",
       "      <th>curb_weight</th>\n",
       "      <th>no_of_owners</th>\n",
       "      <th>mileage</th>\n",
       "      <th>price</th>\n",
       "    </tr>\n",
       "  </thead>\n",
       "  <tbody>\n",
       "    <tr>\n",
       "      <th>1853</th>\n",
       "      <td>1024815</td>\n",
       "      <td>https://www.sgcarmart.com/listing/1024815</td>\n",
       "      <td>mercedes-benz</td>\n",
       "      <td>a200</td>\n",
       "      <td>2018</td>\n",
       "      <td>hatchback</td>\n",
       "      <td>120</td>\n",
       "      <td>1332</td>\n",
       "      <td>1375</td>\n",
       "      <td>1</td>\n",
       "      <td>16904</td>\n",
       "      <td>125800</td>\n",
       "    </tr>\n",
       "  </tbody>\n",
       "</table>\n",
       "</div>"
      ],
      "text/plain": [
       "     listing_id                                        url           make  \\\n",
       "1853    1024815  https://www.sgcarmart.com/listing/1024815  mercedes-benz   \n",
       "\n",
       "     model  manufactured type_of_vehicle  power  engine_cap curb_weight  \\\n",
       "1853  a200          2018       hatchback    120        1332        1375   \n",
       "\n",
       "      no_of_owners  mileage   price  \n",
       "1853             1    16904  125800  "
      ]
     },
     "metadata": {},
     "output_type": "display_data"
    },
    {
     "data": {
      "text/html": [
       "<div>\n",
       "<style scoped>\n",
       "    .dataframe tbody tr th:only-of-type {\n",
       "        vertical-align: middle;\n",
       "    }\n",
       "\n",
       "    .dataframe tbody tr th {\n",
       "        vertical-align: top;\n",
       "    }\n",
       "\n",
       "    .dataframe thead th {\n",
       "        text-align: right;\n",
       "    }\n",
       "</style>\n",
       "<table border=\"1\" class=\"dataframe\">\n",
       "  <thead>\n",
       "    <tr style=\"text-align: right;\">\n",
       "      <th></th>\n",
       "      <th>listing_id</th>\n",
       "      <th>url</th>\n",
       "      <th>make</th>\n",
       "      <th>model</th>\n",
       "      <th>manufactured</th>\n",
       "      <th>type_of_vehicle</th>\n",
       "      <th>power</th>\n",
       "      <th>engine_cap</th>\n",
       "      <th>curb_weight</th>\n",
       "      <th>no_of_owners</th>\n",
       "      <th>mileage</th>\n",
       "      <th>price</th>\n",
       "    </tr>\n",
       "  </thead>\n",
       "  <tbody>\n",
       "    <tr>\n",
       "      <th>10873</th>\n",
       "      <td>1025034</td>\n",
       "      <td>https://www.sgcarmart.com/listing/1025034</td>\n",
       "      <td>mercedes-benz</td>\n",
       "      <td>a180</td>\n",
       "      <td>2020</td>\n",
       "      <td>hatchback</td>\n",
       "      <td>96</td>\n",
       "      <td>1332</td>\n",
       "      <td>1365</td>\n",
       "      <td>1</td>\n",
       "      <td>15000</td>\n",
       "      <td>144800</td>\n",
       "    </tr>\n",
       "  </tbody>\n",
       "</table>\n",
       "</div>"
      ],
      "text/plain": [
       "      listing_id                                        url           make  \\\n",
       "10873    1025034  https://www.sgcarmart.com/listing/1025034  mercedes-benz   \n",
       "\n",
       "      model  manufactured type_of_vehicle  power  engine_cap curb_weight  \\\n",
       "10873  a180          2020       hatchback     96        1332        1365   \n",
       "\n",
       "       no_of_owners  mileage   price  \n",
       "10873             1    15000  144800  "
      ]
     },
     "metadata": {},
     "output_type": "display_data"
    },
    {
     "data": {
      "text/html": [
       "<div>\n",
       "<style scoped>\n",
       "    .dataframe tbody tr th:only-of-type {\n",
       "        vertical-align: middle;\n",
       "    }\n",
       "\n",
       "    .dataframe tbody tr th {\n",
       "        vertical-align: top;\n",
       "    }\n",
       "\n",
       "    .dataframe thead th {\n",
       "        text-align: right;\n",
       "    }\n",
       "</style>\n",
       "<table border=\"1\" class=\"dataframe\">\n",
       "  <thead>\n",
       "    <tr style=\"text-align: right;\">\n",
       "      <th></th>\n",
       "      <th>listing_id</th>\n",
       "      <th>url</th>\n",
       "      <th>make</th>\n",
       "      <th>model</th>\n",
       "      <th>manufactured</th>\n",
       "      <th>type_of_vehicle</th>\n",
       "      <th>power</th>\n",
       "      <th>engine_cap</th>\n",
       "      <th>curb_weight</th>\n",
       "      <th>no_of_owners</th>\n",
       "      <th>mileage</th>\n",
       "      <th>price</th>\n",
       "    </tr>\n",
       "  </thead>\n",
       "  <tbody>\n",
       "    <tr>\n",
       "      <th>12241</th>\n",
       "      <td>1027398</td>\n",
       "      <td>https://www.sgcarmart.com/listing/1027398</td>\n",
       "      <td>mercedes-benz</td>\n",
       "      <td>a180</td>\n",
       "      <td>2020</td>\n",
       "      <td>hatchback</td>\n",
       "      <td>96</td>\n",
       "      <td>1332</td>\n",
       "      <td>1365</td>\n",
       "      <td>1</td>\n",
       "      <td>3300</td>\n",
       "      <td>149500</td>\n",
       "    </tr>\n",
       "  </tbody>\n",
       "</table>\n",
       "</div>"
      ],
      "text/plain": [
       "      listing_id                                        url           make  \\\n",
       "12241    1027398  https://www.sgcarmart.com/listing/1027398  mercedes-benz   \n",
       "\n",
       "      model  manufactured type_of_vehicle  power  engine_cap curb_weight  \\\n",
       "12241  a180          2020       hatchback     96        1332        1365   \n",
       "\n",
       "       no_of_owners  mileage   price  \n",
       "12241             1     3300  149500  "
      ]
     },
     "metadata": {},
     "output_type": "display_data"
    },
    {
     "name": "stdout",
     "output_type": "stream",
     "text": [
      "listing_id ['983884' '1026259' '1002033' ... '1019391' '1023024' '996280']\n",
      "url ['https://www.sgcarmart.com/listing/983884'\n",
      " 'https://www.sgcarmart.com/listing/1026259'\n",
      " 'https://www.sgcarmart.com/listing/1002033' ...\n",
      " 'https://www.sgcarmart.com/listing/1019391'\n",
      " 'https://www.sgcarmart.com/listing/1023024'\n",
      " 'https://www.sgcarmart.com/listing/996280']\n",
      "make ['nissan' 'volkswagen' 'suzuki' 'kia' 'porsche' 'toyota' 'bmw'\n",
      " 'mercedes-benz' 'mitsubishi' 'skoda' 'volvo' 'honda' 'mclaren' 'ferrari'\n",
      " 'lexus' 'austin' 'hyundai' 'mazda' 'audi' 'mini' 'infiniti' 'lamborghini'\n",
      " 'daihatsu' 'jaguar' 'subaru' 'chevrolet' 'maserati' 'ford' 'alfa romeo'\n",
      " 'peugeot' 'bentley' 'opel' 'land rover' 'seat' 'rolls-royce' 'ssangyong'\n",
      " 'renault' 'fiat' 'citroen' 'aston martin' 'hummer' 'jeep' 'proton' 'mg'\n",
      " 'cupra' 'lotus' 'dodge' 'daimler' 'mitsuoka' 'perodua' 'cadillac' 'ruf'\n",
      " 'rolls' 'maybach' 'morgan' 'chrysler' 'alpine' 'smart' 'saab' 'dongfeng'\n",
      " 'maxus' 'international']\n",
      "model ['qashqai' 'golf' 'vitara' 'picanto' 'cayenne' 'c-hr' 'x4' 'corolla' 'amg'\n",
      " 'c180' 'attrage' 'octavia' 'harrier' '318i' '630ci' 'wish' 's60' 'cla180'\n",
      " 'cerato' 'e' '720s' 'outlander' '488' 'ls500' '523i' 't-cross' 'healey'\n",
      " 'scirocco' 'elantra' 'camry' 'b160' 'e250' 'lancer' 'gs' 'x3' '520i'\n",
      " 'freed' '316i' 'civic' '3' 'note' '216i' 'a4' 'cooper' 'sylphy' '730li'\n",
      " 'q50' 'urus' 'jetta' 'b200' 'terios' 'm4' 'crossroad' 'polo' 'vios' 'rx'\n",
      " 'shuttle' 'voxy' '530i' 'sharan' 'e200' '520d' 'xe' 'vezel' 'boxster'\n",
      " 'prius' 'avante' 'sf90' 'alphard' '2' 'x1' 'rx-8' 'forester' 'vellfire'\n",
      " 'jazz' 'gla180' 'carens' 'a180' 'a3' 'cruze' 'aventador' 'es' 'glc250'\n",
      " 'qx30' '320i' '220i' 'odyssey' 'noah' 'grace' 'passat' 'nx' 'city' 'c200'\n",
      " 'a250' 'estima' 'x5' 'evolution' 'macan' 'outback' 'activehybrid' '640i'\n",
      " 'airwave' 'sl350' 'latio' 'previa' 'allion' '528i' 'm5' 'accent' 'coupe'\n",
      " 'tucson' 'accord' 'q3' 'kodiaq' 'veloster' 'jimny' 'c160' 'quattroporte'\n",
      " 'stream' 'impreza' 'ist' 'q5' 'mustang' 'rio' 'giulietta' 'q2' 'is' '86'\n",
      " '3008' 'm3' 'm2' 'hr-v' 'beetle' '535i' 'fit' 'a6' 'sienta' '5008'\n",
      " 's400l' 'continental' 'astra' 's320l' 'range' 's350' '135i' 'cls350'\n",
      " '420i' 'picnic' 'v40' 'm6' 'x-trail' 'rcz' 'granturismo' 'ghibli' 'leon'\n",
      " '911' 'land' 'q60' '630i' 's90' 'a7' 'aqua' 'swift' 'z4' '116i' 'mobilio'\n",
      " 'one' 'ghost' 'v60' '330e' 'teana' 'touran' 'alpina' '118i' 'sonic'\n",
      " 'sportsvan' '430i' '530e' 's5' 'stavic' 'discovery' 'grand' 'a200'\n",
      " 'focus' 'xc60' 'e230' 'cla200' 'slk200' 'xv' 'panamera' 'scenic' 'a5'\n",
      " 'i30' 'tivoli' '650i' 'yaris' 'stonic' 'sportage' '218i' 'sorento'\n",
      " 'e-pace' '458' '428i' 'colt' '216d' 'megane' 'cayman' 'f-type' 'gran'\n",
      " 'cls400' 'glc200' '12c' 'xf' 'b180' 'stinger' 'axela' 'crown' 'huracan'\n",
      " 'a35' '740li' 'fluence' 'r8' 'esquire' '308' 'cr-v' 'e220' 'levante'\n",
      " '335i' '116d' 'sx4' 's300l' 'apv' 'x2' 'eclipse' 'clio' 'premio' '500'\n",
      " 'a8' 'soul' '330i' 'a1' 'rs' 'tiguan' 'elgrand' 'flying' 'materia' 'tt'\n",
      " 's3' 'ct' 'a45' 'integra' 'dawn' '599' 'asx' 'serena' 'gallardo' 'c4'\n",
      " 'ml350' 'superb' 'almera' 'dbs' 'stepwagon' '730i' 'rapid' 'q7' 'f430'\n",
      " 'c5' 'skyline' 'gransport' 'fortuner' 'seltos' 'ds5' 'juke' 'california'\n",
      " '540i' 'santa' 'venue' 'rav4' 'h3' '718' 'xj' 'kadjar' 'mulsanne' 's450'\n",
      " 'niro' 'grancabrio' 'xc90' 'space' 's80' 'compass' 's500l' 'pulsar'\n",
      " 'qx80' 'db9' 'ux' 'giulia' 'ml250' 'e180' 'insight' 'm135i' 'xc40'\n",
      " 'karoq' 'x6' 'f12berlinetta' 'gla200' 'a170' '225xe' 'mokka' 'q30' 'v8'\n",
      " 'i8' 'exora' '218d' '325i' 's2000' 'gtc4lusso' 'raize' '508' 'fairlady'\n",
      " 'x7' 'sq5' 'c250' 'phantom' '2008' '740i' 's40' 'hs' 'qx50' 'defender'\n",
      " 'toledo' 'ateca' 'clc180k' 'maybach' 'gle400' '650s' '570s' '328i' 'rush'\n",
      " 'crossland' 'mark' 'sonata' 'verna' 'elise' 'stelvio' '125i' 'ls460'\n",
      " 'wrangler' 'insignia' 'portofino' 'malibu' 's500' 'm140i' 'journey'\n",
      " 'cascada' '107' 'levorg' '525i' 'gtr' '120i' 'gla250' 'q8' 'orlando'\n",
      " 'prado' 'cc' 'v250d' 'cls250' 'glb200' '323i' 'avanza' 'grandland' 'f8'\n",
      " 'sovereign' 'corsa' 'himiko' 'i45' 'f-pace' 'glc300' 'viva' 'isis' 's4'\n",
      " 'jade' '208' '600lt' 'ls350' 'optima' 'ml400' 'touareg' 'legacy' 'v250'\n",
      " 'arona' 'cts' 'cx-3' 'bentayga' '1m' 's560' 'kamiq' 'ds4' 'ml300' 'c3'\n",
      " 'presage' '3800s' 'cla250' 'e300' 'cherokee' 'copen' 's280' 'saga' 'gr'\n",
      " 'meriva' 'brz' 'lx570' 'myvi' '840i' 'eos' 'getz' 'royce' 's600l' 'ioniq'\n",
      " 'mondeo' 'grandis' 'xk' 'ibiza' '435i' 'i3' 'zafira' 'tarraco' '575m'\n",
      " '340i' '450slc' 'rc' 'vanquish' 'march' 'e350' 'ff' 'gt' 'vantage' '228i'\n",
      " 'hiace' 'vitz' 'ractis' 'lc500' 'tudor' '62' 'aero' 'optra' 'g350' '300c'\n",
      " 'r350l' '750li' 'capri' 'r300l' 'tuscani' 'fj' 'kelisa' '320d' 'gl400'\n",
      " 'clk280' 'a110' 'm8' 'kenari' 'mrs' 'n-box' 'wraith' 'airtrek' 'alhambra'\n",
      " 'freelander' 'sl500' 'wrx' '220' 'fortwo' 'celica' 'genesis' 'c300'\n",
      " 'v260l' 'cl550' 'ciaz' 'slk350' 'v50' 'cls500' 'v90' 'aveo' 'kona' '440i'\n",
      " 'fiesta' '612' 'p1800' 'adam' 'kombi' '9-5' 'renegade' 'rt35s' 'caddy'\n",
      " 'slk250' 'star' '9-3' '230i' 'kuga' 'g10' 'viano' 'gle450' 'f612s' 'b170'\n",
      " 'db11' 'solio' 'vanguard' 'exiga' 'europa' 'sunny' '750i' 'yeti' 'ds3'\n",
      " 'galaxy' 'doblo' 'c350' '207' '159' 's-max' 'arteon' 'scout' 'slk280']\n",
      "manufactured [2015 2010 2016 2007 2014 2018 2012 2009 2019 2005 2017 2020 1964 2008\n",
      " 2011 2013 2116 2021 2118 2004 2115 2120 2006 2121 2106 2107 2119 2112\n",
      " 2111 2109 2117 2110 2108 2113 1975 2114 2003 1978 1933 1976 1969 1982\n",
      " 1972 1962]\n",
      "type_of_vehicle ['suv' 'sports car' 'hatchback' 'mid-sized sedan' 'luxury sedan' 'mpv'\n",
      " 'unknown' 'stationwagon' 'bus/mini bus' 'van']\n",
      "power [ 85 188  88  47 193  90 225 200 115 135  59 180 170 100 190 106  93 129\n",
      " 530 111 110 493 310  95  80 150  99 155 154  70  79 147 220 118 183 101\n",
      " 185  92  58  75  91 140 133 286 478  77 250 103  66 175  97 187 162 132\n",
      "  96 735 134 141 158 105 228  73 104  86 515 206 160 125 235  81 152 184\n",
      " 280 430 336 114 202 120 169  64 145 331  69 121 153 317 240  84 386 108\n",
      " 245 460 375  89 412 257 261 234 233 127 298 192 112  74  72 420 218 123\n",
      "  57 447 215 177 199 373  94 330  51 368 148 441 113 323 217 195 272 300\n",
      " 449 353 316 142 143  82 130  68  87 243  60 165 309  76 213 265 456 138\n",
      " 294 137  65 533 254  63 470 287 283 404 357 295 338 136 340 467 174 109\n",
      " 395 305 128 221 122 270 179 405 335 350 176 416 450 210 408 541 260 151\n",
      " 313 275 285 182  54 173 423 119 324 390 419 269 178 146 230  50 358 360\n",
      " 397 139 247 266 164  45 411 232 545  67 381 306 258 229 388 107 117 209\n",
      " 345 302 166 301 277 552 242 205 507 380 400 320 224 486 425 241 463 223\n",
      " 131 382 203 351  55 410 308  48 384  40 156 126 453 171 197 377 464 216\n",
      " 489 427 465 297 149]\n",
      "engine_cap [1197 1984 1586 1086 2967 1797 2979 1598 3498 1796 1991 1193 1998 1499\n",
      " 2996 1969 1595 1591 2356 3994 1986 3902 3445 2497  999 2912 2487 1498\n",
      " 1584 3598 1390 2995 1997 1496 1597 1198 1798 2494 2999 3996 2143 1495\n",
      " 2998 1799 1497 1395 1995 1999 2893 3990 2493 1794 1308 1996 1318 1685\n",
      " 1332 6498 3456 2362 2498 3724 3189 2993 1368 3982 1975 1462 2987 2457\n",
      " 1298 1987 5038 1399 2500 1199 1339 1560 5461 5998 4999 6208 1596 4395\n",
      " 4691 3824 4608 2997 1317 2773 6592 2360  988 1398 1461 4244 3197 1600\n",
      " 3605 3993 1353 2488  996 2981  998 2261 2687 4806 2151 4497 1468 3798\n",
      " 3342 5204 3600 3387 4163 1950 2157 2199 1590 1994 2179 1242 1196 2480\n",
      " 3999 2894 3745 5999 2359 3614 4134 4308 2495 3800 2694 4297 2672 5950\n",
      " 3855 3653 1988 1362 6752 1580 2354 2521 4663 5552 5935 1372 2891 6262\n",
      " 1699 4735 3436 3696 6749 2435 1490 1371 5000 5980 3799 2499 2156 3778\n",
      " 2384 3444 2925 3956 1993 2693 1968 4235  989 2035 3604 1328 4951 3179\n",
      " 2994 3564 2706 3596 3311 1668  659 2799 1364 5662 1618 1460 3597 5514\n",
      " 2378 4196  647 5748 4520 2953 1386 4961 1373 1296 4969 3622 4799 3518\n",
      " 1397 3797 3955 3471 1341  658 3995 3192 2197 1335 4499 2496 1970 1310\n",
      " 2656 1333 2198]\n",
      "curb_weight ['1285' '1466' '1160' '852' '2185' '1440' '1815' '1195' '1765' '1495'\n",
      " '1465' '940' '1470' '1695' '1655' '1425' '1580' '1340' '1557' '1430'\n",
      " '1287' '1855' '1419' '1610' '1480' '1565' '2220' '1295' '1650' '1369'\n",
      " '1158' '1393' '1267' '1545' '1350' '1725' '1162' '1360' '2105' '1503'\n",
      " '1660' '1685' '1615' '1680' '1715' '1405' '1237' '1310' '1048' '1261'\n",
      " '1230' '1249' '1225' '1205' '1475' '1720' '1644' '2320' '1345' '1845'\n",
      " '1417' '1190' '1769' '1535' '1410' '1139' '1095' '2070' '1130' '1525'\n",
      " '1620' '1625' '1790' '1605' '1700' '1574' '1321' '1375' '1775' '2030'\n",
      " '1450' '1485' '1407' '1355' '1461' '1566' '1045' '1079' '1052' '1385'\n",
      " '1435' '1365' '1413' '1690' '1313' '1735' '1540' '1390' '1500' '1810'\n",
      " '1036' '1170' '1755' '1096' '1380' '1067' '1490' '1105' '1455' '1331'\n",
      " '1520' '1795' '1290' '1684' '1088' '1850' '1750' '1100' '1215' '1200'\n",
      " '1617' '2190' '1115' '1575' '1468' '1038' '1665' '1945' '1370' '1770'\n",
      " '1572' '1219' '1339' '1210' '1110' '1505' '1000' '1840' '1515' '1640'\n",
      " '1893' '1176' '1240' '1324' '1315' '1472' '1239' '1300' '1270' '1560'\n",
      " '1185' '2000' '1570' '1255' '1530' '1010' '1549' '1140' '1858' '1132'\n",
      " '1760' '1870' '1935' 'XXXXX' '1188' '1940' '2329' '1925' '1046' '1730'\n",
      " '1085' '1460' '1675' '1264' '1438' '1626' '1336' '2525' '1241' '1590'\n",
      " '2530' '1322' '1748' '1289' '1785' '1030' '1280' '2075' '1120' '1080'\n",
      " '1155' '1090' '1081' '1630' '2435' '1606' '1613' '1740' '1568' '1060'\n",
      " '2010' '1232' '1970' '1220' '1383' '1510' '1835' '1880' '1320' '2080'\n",
      " '1191' '1357' '1395' '1327' '1420' '1550' '1555' '1227' '1501' '1373'\n",
      " '1600' '2295' '1457' '1292' '1980' '1898' '1865' '2245' '1532' '1251'\n",
      " '1577' '1692' '1400' '1408' '1954' '1757' '1335' '1329' '1454' '1044'\n",
      " '1955' '1070' '1379' '1682' '1647' '1875' '1245' '1705' '1325' '2360'\n",
      " '1867' '1257' '1780' '1920' '1314' '1441' '1585' '1175' '1382' '2109'\n",
      " '1050' '1591' '1138' '2020' '2039' '1330' '1275' '2560' '980' '1645'\n",
      " '1207' '1165' '1900' '1040' '1536' '1453' '1595' '1391' '1862' '1975'\n",
      " '2475' '1397' '1020' '1930' '2065' '2495' '970' '1758' '1359' '1102'\n",
      " '2060' '2140' '1983' '1915' '1841' '1075' '1445' '1558' '1830' '1825'\n",
      " '2350' '1708' '2045' '1892' '1415' '1129' '1492' '1489' '1427' '2290'\n",
      " '2430' '1514' '1150' '1203' '1812' '1522' '1323' '1509' '1218' '1125'\n",
      " '2150' '1800' '1594' '2183' '1890' '2417' '2244' '1527' '2231' '1343'\n",
      " '1804' '1265' '1421' '1608' '2685' '1667' '1589' '1478' '1498' '1569'\n",
      " '2099' '915' '1997' '1672' '1286' '1269' '1683' '2214' '2015' '2815'\n",
      " '1670' '1449' '1710' '1318' '2187' '2455' '1860' '1528' '1635' '1531'\n",
      " '1551' '1065' '1950' '1041' '2305' '1404' '1433' '1805' '1716' '1204'\n",
      " '1463' '2115' '1513' '1664' '1895' '2470' '1776' '1422' '1916' '1819'\n",
      " '1990' '1679' '1126' '1642' '2094' '1260' '2670' '1312' '1601' '2205'\n",
      " '1388' '1563' '1284' '1995' '2261' '2485' '2315' '1364' '1777' '1288'\n",
      " '1576' '1648' '1222' '2037' '1537' '1969' '2335' '2180' '1439' '1486'\n",
      " '2510' '2050' '2175' '2250' '2120' '1597' '1229' '1448' '2170' '1263'\n",
      " '860' '1517' '1068' '910' '1818' '2165' '1250' '1447' '2410' '1539'\n",
      " '2090' '1873' '1658' '805' '1476' '1891' '2451' '1604' '2420' '2110'\n",
      " '1596' '1747' '1180' '2540' '2345' '2130' '1055' '2240' '1960' '2055'\n",
      " '945' '2095' '1965' '1259' '2223' '1676' '1328' '2625' '1831' '1729'\n",
      " '1838' '1387' '1424' '1919' '800' '1542' '1722' '1235' '1414' '1358'\n",
      " '1334' '1356' '1856' '2125' '1636' '1526' '1612' '1745' '1279' '2215'\n",
      " '2555' '2600' '1798' '2433' '1899' '1820' '2249' '2040' '2106' '2064'\n",
      " '1338' '2395' '2505' '1308' '930' '2155' '2160' '2135' '1353' '1058'\n",
      " '1882' '2550' '2440' '2127' '1846' '2266' '830' '1437' '1317' '1035'\n",
      " '1396' '1253' '1429' '2512' '2730' '955' '2490' '2361' '1689' '1135'\n",
      " '840' '1151' '1933' '1164' '1538' '1582' '2025' '2284' '2375' '1652'\n",
      " '1078' '872' '2511' '1659' '1739' '1894' '2206' '1752' '1824' '1772'\n",
      " '995' '1381' '1346' '1603' '950' '1732' '1583' '2085' '2760' '1721'\n",
      " '2093' '1377' '1474' '1781' '1985' '2905' '1534' '2590' '2513' '1122'\n",
      " '1910' '1834' '1316' '1306' '890' '2123' '806' '2184' '2425' '1378'\n",
      " '1994' '1086' '1456' '1832' '870' '1533' '1554' '1709' '1571' '2570'\n",
      " '780' '1703' '1347' '786' '2153' '1411' '2450' '891' '2370' '1768' '1025'\n",
      " '2583' '1905' '1119' '1979' '1403' '1853' '1656' '1989' '1233' '795'\n",
      " '1674' '2100' '1484' '2068' '1178' '1299' '2365' '1953' '2227' '2585'\n",
      " '1663' '1567' '1646' '2745' '1939' '1611' '2492' '1921' '1399' '1221'\n",
      " '1552' '2' '1402' '2635' '2079' '2027' '1706' '2217' '1936' '2509' '1145'\n",
      " '1661' '1268' '1797' '2145' '1193' '1392' '1529' '1366' '1657' '1903'\n",
      " '2448' '2275' '1431' '1293']\n",
      "no_of_owners [ 2  6  1  3 -1  5  4]\n",
      "mileage [ 80000 149000  84000 ... 150256  28414 158400]\n",
      "price [  52800  105800   55800 ...   66600  118900 1068800]\n"
     ]
    },
    {
     "data": {
      "text/plain": [
       "listing_id         object\n",
       "url                object\n",
       "make               object\n",
       "model              object\n",
       "manufactured        int64\n",
       "type_of_vehicle    object\n",
       "power               int64\n",
       "engine_cap          int64\n",
       "curb_weight         int64\n",
       "no_of_owners        int64\n",
       "mileage             int64\n",
       "price               int64\n",
       "dtype: object"
      ]
     },
     "metadata": {},
     "output_type": "display_data"
    },
    {
     "name": "stdout",
     "output_type": "stream",
     "text": [
      "After preprocessing, there are now 14238 records.\n"
     ]
    }
   ],
   "source": [
    "df_cars_cleaned = clean(df_cars_dirty)\n",
    "\n",
    "print('After preprocessing, there are now {} records.'.format(df_cars_cleaned.shape[0]))"
   ]
  },
  {
   "attachments": {},
   "cell_type": "markdown",
   "id": "b433df0f-b658-4284-8b93-01583e18b5f9",
   "metadata": {},
   "source": [
    "### 1.2 Handling Missing (NaN) Values (6 Points)\n",
    "\n",
    "Many traditional data mining algorithms do not like missing (NaN) values and will throw an error if missing values are present. We therefore have to address missing values and get rid of them. On the other hand, we want to preserve as much of our dataset as possible, so we need to be smart about that. In this subtask, you are provided with a version of our used cars resale dataset that contains missing values but is otherwise clean -- so it is all about the `NaN` values here.\n",
    "\n",
    "Let's load the dataset and have a quick look -- the attributes are the same as before:"
   ]
  },
  {
   "cell_type": "code",
   "execution_count": null,
   "id": "88766e6f-dd8a-46e3-8eff-9f5541330be1",
   "metadata": {},
   "outputs": [],
   "source": [
    "df_cars_nan = pd.read_csv('data/a1-used-cars-resale-nan.csv')\n",
    "\n",
    "df_cars_nan.head()"
   ]
  },
  {
   "attachments": {},
   "cell_type": "markdown",
   "id": "ab426740-2832-4d80-9194-88a6ce08a488",
   "metadata": {},
   "source": [
    "Since your decision for handling `NaN` values might depend in the data mining task, assume in the following that you want to use this dataset to **create a regression model to predict the resale price** from the attributes of a transaction. Of course, there will be no need to actually create such a model here.\n",
    "\n",
    "**Task 1: Identify all `NaN` values in the dataset and handle them appropriately!** After this preprocessing, the resulting dataset should no longer contain any `NaN` values. Please provide your answer in the markdown cell below list all issues concerning `NaN` values and how you would handle them with a brief justification for your approach. Additional (simplifying) guidelines:\n",
    "\n",
    "* The goal is to preserve as many records in the dataset as possible.\n",
    "* You do not need to consider external knowledge (i.e., information coming from outside this dataset)\n",
    "* Ignore more sophisticated solutions such as [`sklearn.impute.KNNImputer`](https://scikit-learn.org/stable/modules/generated/sklearn.impute.KNNImputer.html). These can be very useful in practice (and maybe for your project), but their application requires certain assumptions to hold for good results. This is beyond the scope of this assignment.\n",
    "\n",
    "**Your Answer:**"
   ]
  },
  {
   "attachments": {},
   "cell_type": "markdown",
   "id": "ad8a9e22-454d-4fcd-8abe-17bc43346862",
   "metadata": {},
   "source": []
  },
  {
   "attachments": {},
   "cell_type": "markdown",
   "id": "337bc09e-0eae-4d3f-9746-9ae52db85187",
   "metadata": {},
   "source": [
    "**Task 2: Complete the method `handle_nan` in the `.py` file to actually implement your steps for handling `NaN` values!** The results should back up your answer above. Hint: Try to use methods/functionalities provided by `pandas` as much as possible; it will make your code much shorter, faster and your life easier. We will run performance checks for this method to evaluate the runtime, but the performance is not considered for the grading!"
   ]
  },
  {
   "cell_type": "code",
   "execution_count": null,
   "id": "d84e4ab6-1b72-4919-bc75-42058dd1e1f4",
   "metadata": {},
   "outputs": [],
   "source": [
    "df_cars_no_nan = handle_nan(df_cars_nan)\n",
    "\n",
    "print('After handling missing values, there are now {} records.'.format(df_cars_no_nan.shape[0]))\n",
    "print('Number of records with an NaN for any attribute: {}'.format((df_cars_no_nan.isna().sum(axis=1) > 0).sum()))"
   ]
  },
  {
   "attachments": {},
   "cell_type": "markdown",
   "id": "4a89c6d3-5a77-4b3c-86ab-2de6a45df91c",
   "metadata": {},
   "source": [
    "### 1.3 Other Appropriate Data Cleaning / Preprocessing Steps (6 Points)\n",
    "\n",
    "Identifying \"dirty\" records and missing data are two very fundamental and generally rather systematic steps as part of data cleaning / data preprocessing. However, as we saw in the lecture using some examples, there are many other issues with the dataset that can be considered noise and thus potentially negatively affecting any data analysis. So the more noise we can remove, the more likely we can expect meaning analysis results.\n",
    "\n",
    "For this subtask, we use a version of our Used Cars Resale dataset **with no \"dirty\" records or missing data**! Note that this dataset has a few more attributes: `eco_category`, `transmission`, and `reg_date` (registration date). Let's have a look:"
   ]
  },
  {
   "cell_type": "code",
   "execution_count": null,
   "id": "229d1e59-7ae3-4cb6-94e6-3c71c3a8cc97",
   "metadata": {},
   "outputs": [],
   "source": [
    "df_cars_others = pd.read_csv('data/a1-used-cars-resale-other.csv')\n",
    "\n",
    "df_cars_others.head()"
   ]
  },
  {
   "attachments": {},
   "cell_type": "markdown",
   "id": "aa2ecde7-99e0-4828-8abd-daa0403818fe",
   "metadata": {},
   "source": [
    "#### 1.3 a) Appropriate Steps (4 Points)\n",
    "\n",
    "**List at least 4 data cleaning / data preprocessing steps you deem appropriate to apply to the dataset above!** Please provide your answer in the markdown cell below list all steps together with a justification for your decision. Additional (simplifying) guidelines:\n",
    "\n",
    "* You should still assume that we want to use this dataset to create a model for predicting the resale price of a flat based on its attributes. The choice of data mining task is very likely to affect your decision for what cleaning / preprocessing steps to apply.\n",
    "* There is no need to consider external knowledge. For example, you do not have to check if a value for `model` is indeed an existing car model.\n",
    "* Please do not address the concept of attribute encoding -- that is, the encoding of categorical attributes as numerical attributes -- in this subtask. This comes later.\n",
    "* There is no need for you to implement any processing steps! Most important are your justifications for your decisions.\n",
    "\n",
    "**Your Answer:**"
   ]
  },
  {
   "attachments": {},
   "cell_type": "markdown",
   "id": "622c5d44-5cda-4311-ac02-4e53039fceb6",
   "metadata": {},
   "source": []
  },
  {
   "attachments": {},
   "cell_type": "markdown",
   "id": "cd622442-a3bb-4b77-84b7-dbb42ddfebfd",
   "metadata": {},
   "source": [
    "#### 1.3 b) Additional Considerations (2 Points)\n",
    "\n",
    "So far, we handled \"dirty\" records, missing values, and other types of (arguably) straightforward EDA/preprocessing steps. This means that we performed important steps towards ensuring a minimum level of data quality to, in turn, enable a successful data analysis and meaningful results. However, this does not mean that our dataset is now free of any noise.\n",
    "\n",
    "**Briefly discuss what other kind of noise our dataset might still contain?** Include a brief explanation if and how we could identify and handle these instances of noisy data -- if possible in a meaningful way. There is no need to analyze and check the dataset to find any examples. This question is mainly to motivate some additional thinking.\n",
    "\n",
    "**Your Answer:**"
   ]
  },
  {
   "attachments": {},
   "cell_type": "markdown",
   "id": "b83d0552-8cd2-45f1-9631-43437e986bd6",
   "metadata": {},
   "source": []
  },
  {
   "attachments": {},
   "cell_type": "markdown",
   "id": "37d3f625-674d-4fa2-894a-7f0f20aa9415",
   "metadata": {},
   "source": [
    "### 1.4 Handling Categorical Attributes (4 Points)\n",
    "\n",
    "Many to most data mining algorithms require all input features / attributes to be numerical. Our dataset with transactions resales of condo flats contains attributes that are not all numerical. As such, assuming we indeed want to utilize them, we need to convert those attributes into numerical ones. Regarding encoding techniques, we covered [One-Hot Encoding](https://scikit-learn.org/stable/modules/generated/sklearn.preprocessing.OneHotEncoder.html) in the lecture, and also talked about [Target Encoding](https://contrib.scikit-learn.org/category_encoders/targetencoder.html) in the tutorial; you can and should also look into other encoding techniques.\n",
    "\n",
    "For this task, we assume the same dataset file used in 1.3 (`a1-used-cars-resale-others.csv`).\n",
    "\n",
    "**Briefly(!) discuss how you would handle each categorical attribute and justify why!** Handling a categorical attribute means\n",
    "* to drop a categorical attribute *or*\n",
    "* to encode it into a numerical representation *or*\n",
    "* to otherwise transform it into a numerical attribute\n",
    "\n",
    "There is no single correct answer for this task; it's your justification that matters. Again, assume that we want to create a regression model to predict the resale price of a flat based on the other features.\n",
    "\n",
    "**Your Answer:**"
   ]
  },
  {
   "attachments": {},
   "cell_type": "markdown",
   "id": "ca681d15-7dda-44f3-9aff-43a07141ad4d",
   "metadata": {},
   "source": []
  },
  {
   "attachments": {},
   "cell_type": "markdown",
   "id": "2a282d03-152d-436e-adb0-911febcbb444",
   "metadata": {},
   "source": [
    "### 1.5 Basic Facts about a Real-World Dataset (8 Points)\n",
    "\n",
    "The following tasks are about getting basic insights into the Used Cars Resale Prices dataset. As the data preprocessing steps you choose to perform might affect the results of this task, we will use a different dataset file here. Note that this file also contains 15,000 listings of used cars but does **not** contain any \"dirty\" records. This is to ensure that everyone uses the same data.\n",
    "\n",
    "If you think this data file may contain \"dirty\" records, you can safely ignore them. Please do not modify the data for this task!"
   ]
  },
  {
   "cell_type": "code",
   "execution_count": null,
   "id": "bb4e91ee-fdc9-4b05-a070-55c0855dedec",
   "metadata": {},
   "outputs": [],
   "source": [
    "df_cars_facts = pd.read_csv('data/a1-used-cars-resale-facts.csv')\n",
    "\n",
    "df_cars_facts.head()"
   ]
  },
  {
   "attachments": {},
   "cell_type": "markdown",
   "id": "a6db59c3-d7e9-4e37-a57c-db89bceb75cf",
   "metadata": {},
   "source": [
    "**Please complete the table below by answering the 8 given questions!** Use the code cell below the table to actually implement your steps that enabled you to answer the questions. There is no need for a fancy layout for any print statement; it's only important that the result is clear."
   ]
  },
  {
   "attachments": {},
   "cell_type": "markdown",
   "id": "375bf326-0658-49ad-89ce-59bfd98b6331",
   "metadata": {},
   "source": [
    "This is a markdown cell. Please fill in your answers for (1)~(8).\n",
    "\n",
    "| No. | Question                                                                                               \t| Answer   \t|\n",
    "|-----|------------------------------------------------------------------------------------------------------------|--------------|\n",
    "| 1)  | What are the lowest and the highest prices for which a car has been sold?   | **???**   |\n",
    "| 2)  | How many different car makes are in the whole dataset? |  **???**  |\n",
    "| 3)  | How many Toyota Corolla (manufactured before 2010) have been sold?  |  **???**  |\n",
    "| 4)  | What are the top-3 most sold car makes (give the car make and the number of sales)? |  **???**  |\n",
    "| 5)  | Which SUV car model has been sold the most (give the model and the number of sales)? |  **???**   |\n",
    "| 6)  | Which car make generated the highest overall sale when only considering low-powered cars, i.e., with power $ \\leq$ 60 (give the car make and the total sale)? | **???**   |\n",
    "| 7)  | Which midsize sedan has the highest *power-to-engine_cap* ratio (give, the make, model, year of manufacturing, and power-to-engine_cap ratio (2 decimal precision))? |  **???**  |\n",
    "| 8)  | What is the correlation between the resale *price* and *mileage*, and between resale *price* and *engine_cap*? Use the Pearson correlation as metric. | **???**  |"
   ]
  },
  {
   "attachments": {},
   "cell_type": "markdown",
   "id": "7f520c55-dad8-4f26-99e2-cc5e10244f10",
   "metadata": {},
   "source": [
    "**Complete the method `extract_facts` in the `.py` file to actually extract the facts!** The results should back up your answer above. Hint: Try to use methods/functionalities provided by `pandas` as much as possible; it will make your code much shorter, faster and your life easier. We will run performance checks for this method to evaluate the runtime, but the performance is not considered for the grading!\n",
    "\n",
    "**Note:** You can simply use simple print statements that somehow show the result you entered into the table above. You do not have to ensure any specific output. It should only *somehow* be possible to match the answers you have added to the table above to the output of the code cell."
   ]
  },
  {
   "cell_type": "code",
   "execution_count": null,
   "id": "1f28185d-e64e-4c58-bf07-9775063d07cb",
   "metadata": {},
   "outputs": [],
   "source": [
    "extract_facts(df_cars_facts)"
   ]
  },
  {
   "attachments": {},
   "cell_type": "markdown",
   "id": "a95c9d3e-b19c-47a8-ad5c-48415a4043f2",
   "metadata": {},
   "source": [
    "---"
   ]
  },
  {
   "attachments": {},
   "cell_type": "markdown",
   "id": "f96b982a-0060-46be-bbad-b0f82238ab2e",
   "metadata": {},
   "source": [
    "# 2 K-Means\n",
    "\n",
    "The K-Means algorithm is a fundamental technique in unsupervised machine learning aimed at categorizing data points into distinct clusters. The primary objective is to partition a dataset into K clusters based on similarities among data points. The algorithm operates through several steps:\n",
    "\n",
    "* **Initialization:** Begin by selecting the desired number of clusters, K. Initialize K centroids randomly, representing the cluster centers.\n",
    "\n",
    "* **Assignment:** Each data point is assigned to the nearest centroid, establishing initial clusters.\n",
    "\n",
    "* **Update:** Recalculate the centroids of the clusters using the mean of data points within each cluster.\n",
    "ments are consistent.\n",
    "\n",
    "The algorithm repeatedly performs the assignment and update steps for a set number of iterations or until the centroids no longer shift significantly. The algorithm converges when centroids stabilize, indicating that cluster assignments are consistent. At the end of the process, data points are grouped into K clusters, with each cluster defined by its centroid. K-Means has applications across diverse fields, such as customer behavior analysis, image segmentation, and recommendation systems. However, it's sensitive to the initial centroid placement and assumes clusters are spherical and equally sized, which can affect its performance."
   ]
  },
  {
   "attachments": {},
   "cell_type": "markdown",
   "id": "f17241b9-b45a-49d3-827b-8dec4bf182c1",
   "metadata": {},
   "source": [
    "### 2.1 Performing K-Means \"By Hand\" (4 Points)\n",
    "\n",
    "The plot below shows a toy dataset of 15 data points labeled A, B, C, ..., O."
   ]
  },
  {
   "attachments": {},
   "cell_type": "markdown",
   "id": "d33b3407-3934-4726-97ba-fb7be214d317",
   "metadata": {},
   "source": [
    "<img src=\"data/a1-kmeans-data.png\">"
   ]
  },
  {
   "attachments": {},
   "cell_type": "markdown",
   "id": "62aec036-1e2b-45a0-8fc5-19ccc131a66e",
   "metadata": {},
   "source": [
    "#### 2.1 a) Find Clusters for K=3 (2 Points)\n",
    "\n",
    "Perform K-Means with K=3 on the data, taking points C, H, and M as the initial cluster centers! At the end of each iteration, list the positions of the cluster centers, as well as the set of points belonging to each cluster. There is no need for you to implement anything here.\n",
    "\n",
    "**Your Answer:**"
   ]
  },
  {
   "attachments": {},
   "cell_type": "markdown",
   "id": "517712dd-55b9-42f9-ab19-a4a81e7caf16",
   "metadata": {},
   "source": []
  },
  {
   "attachments": {},
   "cell_type": "markdown",
   "id": "46ff2bbd-7182-4f1c-b2d1-7d90c6b1a21d",
   "metadata": {},
   "source": [
    "#### 2.1 b) Evaluate the Result (2 Points)\n",
    "\n",
    "Do you think this clustering result is satisfactory? Briefly discuss your answer!\n",
    " \n",
    " **Your Answer:**"
   ]
  },
  {
   "attachments": {},
   "cell_type": "markdown",
   "id": "2c1612b2-521e-440d-839a-65a3c174f046",
   "metadata": {},
   "source": []
  },
  {
   "attachments": {},
   "cell_type": "markdown",
   "id": "97bc1933-9b0f-4f60-a6ea-db4db64bc937",
   "metadata": {},
   "source": [
    "### 2.2 Initializing Centroids (10 Points)\n",
    "\n",
    "As we learned in the lecture, K-Means is rather sensitive to the initialization of the clusters. The most common initialization method is **K-Means++** (see lecture slides). Note that K-Means++ is non-deterministic as it picks the next based on probabilities depending on the distances between the data points and the existing clusters. You will implement the K-Means++ initialization in this task.\n",
    "\n",
    "Consider another heuristic **MaxDist** which is very similar to K-Means++, which picks the next centroid as the data point which is farthest away from its currently nearest existing centroid. -- In fact, some of you in the lecture have asked why we not simply do this instead of picking points with some randomness -- More formally, given a pick for the first centroid $c_1$, all following centroids $c_k$ for $k=2,...,K$ are defined as:\n",
    "\n",
    "$$\n",
    "c_k = \\underset{x\\in X}{\\mathrm{argmax}} \\left( \\underset{i=1,...,k-1}{\\mathrm{min}}||x - c_i||_2 \\right)\n",
    "$$\n",
    "\n",
    "where $X$ is the set of all data points. Appreciate that $\\underset{i=1,...,k-1}{\\mathrm{min}}||x - c_i||_2$ is also part of K-Means++, only instead of picking with some randomization we always pick the point with the largest distance.\n",
    "\n",
    "For testing your implementation in the following, we use the dataset that generated the figure above in 1.1. The data points are in the order that $A=X[0]$, $B=X[1]$, $C=X[2]$, ..., $N=X[13]$, $O=X[14]$. This will make the interpretation of the results easier."
   ]
  },
  {
   "cell_type": "code",
   "execution_count": null,
   "id": "83d1d1d9-ff05-4b9a-b23a-84ec6c2347cb",
   "metadata": {},
   "outputs": [],
   "source": [
    "X = np.array([[-4,1], [-2,1], [0,1], [2,1], [4,1],\n",
    "              [-4,0], [-2,0], [0,0], [2,0], [4,0], \n",
    "              [-4,-1], [-2,-1],  [0,-1], [2,-1], [4,-1]])"
   ]
  },
  {
   "attachments": {},
   "cell_type": "markdown",
   "id": "a7d75e77-efaf-4c43-bb17-497bde4612d0",
   "metadata": {},
   "source": [
    "#### 2.2 a) Implement Initialization of Centroids (6 Points)\n",
    "\n",
    "Implement the method `kmeans_init()` in the `.py` file to calculate the initial centroids based on the two approaches \"K-Means++\" and \"MaxDist\"! Since both approaches are quite similar, this can easily be done in the same method. Note that `kmeans_init()` allows you to specify the first centroid manually. This is very useful for testing and interpreting the results later. Note that the method should return the indices of the respective data points chosen as centroids and not the actual data points.\n",
    "\n",
    "Hint: We already imported the method `euclidean_distances` for you to use, and you can always use anything provided by `numpy`.\n",
    "\n",
    "The code cell allows you to check your code."
   ]
  },
  {
   "cell_type": "code",
   "execution_count": null,
   "id": "fd947985-d1a6-4b03-b1ea-4b1076152a3b",
   "metadata": {},
   "outputs": [],
   "source": [
    "centroids = kmeans_init(X, 3, c1=0, method='maxdist')\n",
    "#centroids = kmeans_init(X, 3, c1=0, method='kmeans++')\n",
    "\n",
    "print('Centroids:')\n",
    "print(centroids)"
   ]
  },
  {
   "attachments": {},
   "cell_type": "markdown",
   "id": "b7889475-8468-4ce6-a399-4808996e482a",
   "metadata": {},
   "source": [
    "For `method='maxdist'` the output should be as follows:\n",
    "\n",
    "```\n",
    "Centroids:\n",
    "[ 0 14  7]\n",
    "```\n",
    "\n",
    "This output should match since we set the data point at index `0` as the first centroid, and the \"MaxDist\" method is deterministic. When using `method='kmeans++'`, the output will differ when executing the code cell multiple times, although the first centroid in the list should always be Index `0`, of course."
   ]
  },
  {
   "attachments": {},
   "cell_type": "markdown",
   "id": "ff709373-3f46-45c2-a495-8196afb1bbce",
   "metadata": {},
   "source": [
    "#### 2.2 b) Interpreting MaxDist Initialization\n",
    "\n",
    "We provide you with a method `plot_centroid_distributions` (check `src/utils.py` for the details on the input parameters) to visualize the process of picking all centroids, given a manually chosen first centroid. `plot_centroid_distributions` executes your implementation of `initialize_centroids` multiple times specified by the input parameter `num_runs`. During this process, the method counts the number of times each data point (i.e., its index $0..14$) was picked for $c_2$, ..., $c_k$ (we use K=3 throughout this section). This gives you a distribution of how often a data point was selected as centroid, and plots it as a bar chart. Of course, since we specify the first centroid $c_1$ as an input parameter, the distribution for $c_1$ is always a single bar with a height of `num_runs`.\n",
    "\n",
    "Run `plot_centroid_distributions` using the method **MaxDist** using the code below. The number of clusters is K=3 and the index of the first cluster is 0 (i.e., data point $A$). If the results are unclear, you can increase the value of `num_runs`. Explain the results, discuss whether they meet your expectations of the method **MaxDist**, and discuss if the result is unique! Use the markdown cell below the plots."
   ]
  },
  {
   "cell_type": "code",
   "execution_count": null,
   "id": "146235f8-bf2a-4035-a13c-98e224094a24",
   "metadata": {},
   "outputs": [],
   "source": [
    "plot_centroid_distributions(kmeans_init, X, 3, 0, method='maxdist', num_runs=100)"
   ]
  },
  {
   "attachments": {},
   "cell_type": "markdown",
   "id": "ae0b31ab-de06-44ba-b273-8528e838d674",
   "metadata": {},
   "source": [
    "**Your Answer:**"
   ]
  },
  {
   "attachments": {},
   "cell_type": "markdown",
   "id": "2e537faa-2e16-4755-a2f4-e34f820b6b0d",
   "metadata": {},
   "source": []
  },
  {
   "attachments": {},
   "cell_type": "markdown",
   "id": "39e91f97-d4d3-499f-99ee-ec9fdd7a543c",
   "metadata": {},
   "source": [
    "#### 2.2 c) Interpreting KMeans++ Initialization (2 Points)\n",
    "\n",
    "Run `plot_centroid_distributions` using the method **K-Means++** using the code below! The number of clusters is K=3 and the index of the first cluster is 0 (i.e., data point $A$). If the results are unclear, you can increase the value of `num_runs`. Explain the results and discuss whether they meet your expectations of the method **K-Means++**! Use the markdown cell below the plots."
   ]
  },
  {
   "cell_type": "code",
   "execution_count": null,
   "id": "d890f510-cc20-4577-8bec-b241a38299b1",
   "metadata": {},
   "outputs": [],
   "source": [
    "plot_centroid_distributions(kmeans_init, X, 3, 0, method='kmeans++', num_runs=100)"
   ]
  },
  {
   "attachments": {},
   "cell_type": "markdown",
   "id": "68cacd72-5fc3-4a98-9c44-ff61d63fe006",
   "metadata": {},
   "source": [
    "**Your Answer:**"
   ]
  },
  {
   "attachments": {},
   "cell_type": "markdown",
   "id": "7b455068-2bee-47fd-a2ef-a716b91ed3a0",
   "metadata": {},
   "source": []
  },
  {
   "attachments": {},
   "cell_type": "markdown",
   "id": "ff40a137-e32d-4876-b43b-fa2412c5adb7",
   "metadata": {},
   "source": [
    "### 2.3 Questions about K-Means (6 Points)\n",
    "\n",
    "#### 2.3 a) Empty Cluster (3 Points)\n",
    "\n",
    "**Outline all situations where K-Means may return at least 1 empty cluster!** To address this task, please make the following assumptions:\n",
    "* The number of samples $N$ in the dataset is $N > 0$\n",
    "* The number of clusters $K$ when running K-Means is $K \\geq 2$\n",
    "* The initialization of the initial centroids can be arbitrary good or bad\n",
    "\n",
    "**Your Answer:**"
   ]
  },
  {
   "attachments": {},
   "cell_type": "markdown",
   "id": "cde4e4a7-d1f5-4c1d-a0b4-86c1553cd737",
   "metadata": {},
   "source": []
  },
  {
   "attachments": {},
   "cell_type": "markdown",
   "id": "bf20c022-94c2-412a-99e8-64d0386cd6fb",
   "metadata": {},
   "source": [
    "#### 2.3 b) Outlier Detection (3 Points)\n",
    "\n",
    "Recall the K-Means results in clusterings that are complete, i.e., each data point is assigned to a cluster. In contrast, DBSCAN has the notion of noise, i.e., points that are not part of any cluster, which can be used to identify outliers (see also Task 2). Now let's assume we want to identify outliers in a dataset but only have an implementation for K-Means available.\n",
    "\n",
    "**Describe how we can use K-Means to identify outliers!** Since the notion of outliers is not well defined, it's not about having a fool-proof solution but to make a well-informed decision to limit the set of data points that are potential outliers.\n",
    "\n",
    "**Your Answer:**"
   ]
  },
  {
   "attachments": {},
   "cell_type": "markdown",
   "id": "83125301-bd77-4412-a921-1e3c33c453a2",
   "metadata": {},
   "source": []
  },
  {
   "cell_type": "code",
   "execution_count": null,
   "id": "4b672d13-ff39-4b63-84d3-04f82471a7c1",
   "metadata": {},
   "outputs": [],
   "source": []
  }
 ],
 "metadata": {
  "kernelspec": {
   "display_name": "lm_eval",
   "language": "python",
   "name": "python3"
  },
  "language_info": {
   "codemirror_mode": {
    "name": "ipython",
    "version": 3
   },
   "file_extension": ".py",
   "mimetype": "text/x-python",
   "name": "python",
   "nbconvert_exporter": "python",
   "pygments_lexer": "ipython3",
   "version": "3.10.12"
  }
 },
 "nbformat": 4,
 "nbformat_minor": 5
}
